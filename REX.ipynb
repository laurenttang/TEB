{
 "cells": [
  {
   "cell_type": "code",
   "execution_count": 41,
   "metadata": {},
   "outputs": [
    {
     "name": "stdout",
     "output_type": "stream",
     "text": [
      "re.compile('\\\\r\\\\n')\n",
      "<class 're.Pattern'>\n",
      "'.出納日常作業處理等相關工作.人資相關作業(員工團保,勞 ,健保加退保作業).薪資計算.主管交辦事務.需細心, 負責任,,態度佳'\n"
     ]
    }
   ],
   "source": [
    "import re\n",
    "p1=re.compile(r'\\d')\n",
    "p=re.compile(r'\\r\\n',0)\n",
    "print(p)\n",
    "print(type(p))\n",
    "words=p.split(\"'1.出納日常作業處理等相關工作\\r\\n2.人資相關作業(員工團保,勞 ,健保加退保作業)\\r\\n3.薪資計算\\r\\n4.主管交辦事務\\r\\n5.需細心, 負責任,,態度佳\\r\\n\\r\\n'\")\n",
    "words=''.join(words)\n",
    "new_words=p1.split(words)\n",
    "print(''.join(new_words))"
   ]
  },
  {
   "cell_type": "code",
   "execution_count": null,
   "metadata": {},
   "outputs": [],
   "source": []
  }
 ],
 "metadata": {
  "kernelspec": {
   "display_name": "Python 3",
   "language": "python",
   "name": "python3"
  },
  "language_info": {
   "codemirror_mode": {
    "name": "ipython",
    "version": 3
   },
   "file_extension": ".py",
   "mimetype": "text/x-python",
   "name": "python",
   "nbconvert_exporter": "python",
   "pygments_lexer": "ipython3",
   "version": "3.7.6"
  }
 },
 "nbformat": 4,
 "nbformat_minor": 4
}
